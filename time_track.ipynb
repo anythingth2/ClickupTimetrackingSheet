{
 "cells": [
  {
   "cell_type": "code",
   "execution_count": 15,
   "metadata": {},
   "outputs": [
    {
     "data": {
      "text/plain": [
       "True"
      ]
     },
     "execution_count": 15,
     "metadata": {},
     "output_type": "execute_result"
    }
   ],
   "source": [
    "from dotenv import load_dotenv\n",
    "load_dotenv()"
   ]
  },
  {
   "cell_type": "code",
   "execution_count": 87,
   "metadata": {},
   "outputs": [],
   "source": [
    "import os\n",
    "import datetime\n",
    "import json\n",
    "import requests\n",
    "\n",
    "import pandas as pd\n",
    "import tqdm"
   ]
  },
  {
   "cell_type": "code",
   "execution_count": 17,
   "metadata": {},
   "outputs": [],
   "source": [
    "API_KEY = os.environ['API_KEY']\n",
    "TEAM_ID = os.environ['TEAM_ID']\n",
    "MEMBER_ID = os.environ['MEMBER_ID']"
   ]
  },
  {
   "attachments": {},
   "cell_type": "markdown",
   "metadata": {},
   "source": [
    "# Load Parameters"
   ]
  },
  {
   "cell_type": "code",
   "execution_count": 93,
   "metadata": {},
   "outputs": [],
   "source": [
    "time_sheet_path = 'input/time_sheet_20230317-20230331.xlsx'\n",
    "# time_sheet_path = 'input/time_sheet_20230401-20230422.xlsx'"
   ]
  },
  {
   "attachments": {},
   "cell_type": "markdown",
   "metadata": {},
   "source": [
    "# Time Tracking "
   ]
  },
  {
   "cell_type": "code",
   "execution_count": 94,
   "metadata": {},
   "outputs": [
    {
     "data": {
      "text/html": [
       "<div>\n",
       "<style scoped>\n",
       "    .dataframe tbody tr th:only-of-type {\n",
       "        vertical-align: middle;\n",
       "    }\n",
       "\n",
       "    .dataframe tbody tr th {\n",
       "        vertical-align: top;\n",
       "    }\n",
       "\n",
       "    .dataframe thead th {\n",
       "        text-align: right;\n",
       "    }\n",
       "</style>\n",
       "<table border=\"1\" class=\"dataframe\">\n",
       "  <thead>\n",
       "    <tr style=\"text-align: right;\">\n",
       "      <th></th>\n",
       "      <th>url</th>\n",
       "      <th>task</th>\n",
       "      <th>2023-03-17</th>\n",
       "      <th>2023-03-18</th>\n",
       "      <th>2023-03-19</th>\n",
       "      <th>2023-03-20</th>\n",
       "      <th>2023-03-21</th>\n",
       "      <th>2023-03-22</th>\n",
       "      <th>2023-03-23</th>\n",
       "      <th>2023-03-24</th>\n",
       "      <th>2023-03-25</th>\n",
       "      <th>2023-03-26</th>\n",
       "      <th>2023-03-27</th>\n",
       "      <th>2023-03-28</th>\n",
       "      <th>2023-03-29</th>\n",
       "      <th>2023-03-30</th>\n",
       "      <th>2023-03-31</th>\n",
       "    </tr>\n",
       "  </thead>\n",
       "  <tbody>\n",
       "    <tr>\n",
       "      <th>0</th>\n",
       "      <td>https://app.clickup.com/t/2egpdre</td>\n",
       "      <td>MRT - Word Cloud</td>\n",
       "      <td>NaN</td>\n",
       "      <td>NaN</td>\n",
       "      <td>NaN</td>\n",
       "      <td>7.5</td>\n",
       "      <td>7.5</td>\n",
       "      <td>4.0</td>\n",
       "      <td>NaN</td>\n",
       "      <td>NaN</td>\n",
       "      <td>7.5</td>\n",
       "      <td>NaN</td>\n",
       "      <td>NaN</td>\n",
       "      <td>NaN</td>\n",
       "      <td>NaN</td>\n",
       "      <td>NaN</td>\n",
       "      <td>NaN</td>\n",
       "    </tr>\n",
       "    <tr>\n",
       "      <th>1</th>\n",
       "      <td>https://app.clickup.com/t/2egpbkx</td>\n",
       "      <td>MRT - Demand Forecasting</td>\n",
       "      <td>NaN</td>\n",
       "      <td>NaN</td>\n",
       "      <td>NaN</td>\n",
       "      <td>NaN</td>\n",
       "      <td>NaN</td>\n",
       "      <td>3.5</td>\n",
       "      <td>NaN</td>\n",
       "      <td>3.5</td>\n",
       "      <td>NaN</td>\n",
       "      <td>NaN</td>\n",
       "      <td>NaN</td>\n",
       "      <td>7.5</td>\n",
       "      <td>7.5</td>\n",
       "      <td>3.5</td>\n",
       "      <td>3.5</td>\n",
       "    </tr>\n",
       "    <tr>\n",
       "      <th>2</th>\n",
       "      <td>https://app.clickup.com/t/2qvp4qe</td>\n",
       "      <td>GSB - Product Rec</td>\n",
       "      <td>NaN</td>\n",
       "      <td>NaN</td>\n",
       "      <td>NaN</td>\n",
       "      <td>NaN</td>\n",
       "      <td>NaN</td>\n",
       "      <td>NaN</td>\n",
       "      <td>7.5</td>\n",
       "      <td>4.0</td>\n",
       "      <td>NaN</td>\n",
       "      <td>NaN</td>\n",
       "      <td>NaN</td>\n",
       "      <td>NaN</td>\n",
       "      <td>NaN</td>\n",
       "      <td>4.0</td>\n",
       "      <td>4.0</td>\n",
       "    </tr>\n",
       "  </tbody>\n",
       "</table>\n",
       "</div>"
      ],
      "text/plain": [
       "                                 url                      task  2023-03-17   \n",
       "0  https://app.clickup.com/t/2egpdre          MRT - Word Cloud         NaN  \\\n",
       "1  https://app.clickup.com/t/2egpbkx  MRT - Demand Forecasting         NaN   \n",
       "2  https://app.clickup.com/t/2qvp4qe         GSB - Product Rec         NaN   \n",
       "\n",
       "   2023-03-18  2023-03-19  2023-03-20  2023-03-21  2023-03-22  2023-03-23   \n",
       "0         NaN         NaN         7.5         7.5         4.0         NaN  \\\n",
       "1         NaN         NaN         NaN         NaN         3.5         NaN   \n",
       "2         NaN         NaN         NaN         NaN         NaN         7.5   \n",
       "\n",
       "   2023-03-24  2023-03-25  2023-03-26  2023-03-27  2023-03-28  2023-03-29   \n",
       "0         NaN         7.5         NaN         NaN         NaN         NaN  \\\n",
       "1         3.5         NaN         NaN         NaN         7.5         7.5   \n",
       "2         4.0         NaN         NaN         NaN         NaN         NaN   \n",
       "\n",
       "   2023-03-30  2023-03-31  \n",
       "0         NaN         NaN  \n",
       "1         3.5         3.5  \n",
       "2         4.0         4.0  "
      ]
     },
     "execution_count": 94,
     "metadata": {},
     "output_type": "execute_result"
    }
   ],
   "source": [
    "time_sheet_df = pd.read_excel(time_sheet_path)\n",
    "time_sheet_df"
   ]
  },
  {
   "cell_type": "code",
   "execution_count": 95,
   "metadata": {},
   "outputs": [
    {
     "data": {
      "text/html": [
       "<div>\n",
       "<style scoped>\n",
       "    .dataframe tbody tr th:only-of-type {\n",
       "        vertical-align: middle;\n",
       "    }\n",
       "\n",
       "    .dataframe tbody tr th {\n",
       "        vertical-align: top;\n",
       "    }\n",
       "\n",
       "    .dataframe thead th {\n",
       "        text-align: right;\n",
       "    }\n",
       "</style>\n",
       "<table border=\"1\" class=\"dataframe\">\n",
       "  <thead>\n",
       "    <tr style=\"text-align: right;\">\n",
       "      <th></th>\n",
       "      <th>url</th>\n",
       "      <th>date</th>\n",
       "      <th>time_spent</th>\n",
       "      <th>task_id</th>\n",
       "    </tr>\n",
       "  </thead>\n",
       "  <tbody>\n",
       "    <tr>\n",
       "      <th>9</th>\n",
       "      <td>https://app.clickup.com/t/2egpdre</td>\n",
       "      <td>2023-03-20</td>\n",
       "      <td>7.5</td>\n",
       "      <td>2egpdre</td>\n",
       "    </tr>\n",
       "    <tr>\n",
       "      <th>12</th>\n",
       "      <td>https://app.clickup.com/t/2egpdre</td>\n",
       "      <td>2023-03-21</td>\n",
       "      <td>7.5</td>\n",
       "      <td>2egpdre</td>\n",
       "    </tr>\n",
       "    <tr>\n",
       "      <th>15</th>\n",
       "      <td>https://app.clickup.com/t/2egpdre</td>\n",
       "      <td>2023-03-22</td>\n",
       "      <td>4.0</td>\n",
       "      <td>2egpdre</td>\n",
       "    </tr>\n",
       "    <tr>\n",
       "      <th>16</th>\n",
       "      <td>https://app.clickup.com/t/2egpbkx</td>\n",
       "      <td>2023-03-22</td>\n",
       "      <td>3.5</td>\n",
       "      <td>2egpbkx</td>\n",
       "    </tr>\n",
       "    <tr>\n",
       "      <th>20</th>\n",
       "      <td>https://app.clickup.com/t/2qvp4qe</td>\n",
       "      <td>2023-03-23</td>\n",
       "      <td>7.5</td>\n",
       "      <td>2qvp4qe</td>\n",
       "    </tr>\n",
       "    <tr>\n",
       "      <th>22</th>\n",
       "      <td>https://app.clickup.com/t/2egpbkx</td>\n",
       "      <td>2023-03-24</td>\n",
       "      <td>3.5</td>\n",
       "      <td>2egpbkx</td>\n",
       "    </tr>\n",
       "    <tr>\n",
       "      <th>23</th>\n",
       "      <td>https://app.clickup.com/t/2qvp4qe</td>\n",
       "      <td>2023-03-24</td>\n",
       "      <td>4.0</td>\n",
       "      <td>2qvp4qe</td>\n",
       "    </tr>\n",
       "    <tr>\n",
       "      <th>24</th>\n",
       "      <td>https://app.clickup.com/t/2egpdre</td>\n",
       "      <td>2023-03-25</td>\n",
       "      <td>7.5</td>\n",
       "      <td>2egpdre</td>\n",
       "    </tr>\n",
       "    <tr>\n",
       "      <th>34</th>\n",
       "      <td>https://app.clickup.com/t/2egpbkx</td>\n",
       "      <td>2023-03-28</td>\n",
       "      <td>7.5</td>\n",
       "      <td>2egpbkx</td>\n",
       "    </tr>\n",
       "    <tr>\n",
       "      <th>37</th>\n",
       "      <td>https://app.clickup.com/t/2egpbkx</td>\n",
       "      <td>2023-03-29</td>\n",
       "      <td>7.5</td>\n",
       "      <td>2egpbkx</td>\n",
       "    </tr>\n",
       "    <tr>\n",
       "      <th>40</th>\n",
       "      <td>https://app.clickup.com/t/2egpbkx</td>\n",
       "      <td>2023-03-30</td>\n",
       "      <td>3.5</td>\n",
       "      <td>2egpbkx</td>\n",
       "    </tr>\n",
       "    <tr>\n",
       "      <th>41</th>\n",
       "      <td>https://app.clickup.com/t/2qvp4qe</td>\n",
       "      <td>2023-03-30</td>\n",
       "      <td>4.0</td>\n",
       "      <td>2qvp4qe</td>\n",
       "    </tr>\n",
       "    <tr>\n",
       "      <th>43</th>\n",
       "      <td>https://app.clickup.com/t/2egpbkx</td>\n",
       "      <td>2023-03-31</td>\n",
       "      <td>3.5</td>\n",
       "      <td>2egpbkx</td>\n",
       "    </tr>\n",
       "    <tr>\n",
       "      <th>44</th>\n",
       "      <td>https://app.clickup.com/t/2qvp4qe</td>\n",
       "      <td>2023-03-31</td>\n",
       "      <td>4.0</td>\n",
       "      <td>2qvp4qe</td>\n",
       "    </tr>\n",
       "  </tbody>\n",
       "</table>\n",
       "</div>"
      ],
      "text/plain": [
       "                                  url       date  time_spent  task_id\n",
       "9   https://app.clickup.com/t/2egpdre 2023-03-20         7.5  2egpdre\n",
       "12  https://app.clickup.com/t/2egpdre 2023-03-21         7.5  2egpdre\n",
       "15  https://app.clickup.com/t/2egpdre 2023-03-22         4.0  2egpdre\n",
       "16  https://app.clickup.com/t/2egpbkx 2023-03-22         3.5  2egpbkx\n",
       "20  https://app.clickup.com/t/2qvp4qe 2023-03-23         7.5  2qvp4qe\n",
       "22  https://app.clickup.com/t/2egpbkx 2023-03-24         3.5  2egpbkx\n",
       "23  https://app.clickup.com/t/2qvp4qe 2023-03-24         4.0  2qvp4qe\n",
       "24  https://app.clickup.com/t/2egpdre 2023-03-25         7.5  2egpdre\n",
       "34  https://app.clickup.com/t/2egpbkx 2023-03-28         7.5  2egpbkx\n",
       "37  https://app.clickup.com/t/2egpbkx 2023-03-29         7.5  2egpbkx\n",
       "40  https://app.clickup.com/t/2egpbkx 2023-03-30         3.5  2egpbkx\n",
       "41  https://app.clickup.com/t/2qvp4qe 2023-03-30         4.0  2qvp4qe\n",
       "43  https://app.clickup.com/t/2egpbkx 2023-03-31         3.5  2egpbkx\n",
       "44  https://app.clickup.com/t/2qvp4qe 2023-03-31         4.0  2qvp4qe"
      ]
     },
     "execution_count": 95,
     "metadata": {},
     "output_type": "execute_result"
    }
   ],
   "source": [
    "time_spent_df = time_sheet_df.drop(columns=['task']).melt(id_vars=['url'], var_name='date', value_name='time_spent').dropna()\n",
    "\n",
    "# Extract last 6 characters of url\n",
    "time_spent_df['task_id'] = time_spent_df['url'].str.extract(r'https://app.clickup.com/t/(\\w+)', expand=False)\n",
    "time_spent_df['date'] = pd.to_datetime(time_spent_df['date'], format='%Y-%m-%d')\n",
    "time_spent_df"
   ]
  },
  {
   "cell_type": "code",
   "execution_count": null,
   "metadata": {},
   "outputs": [],
   "source": []
  },
  {
   "cell_type": "code",
   "execution_count": null,
   "metadata": {},
   "outputs": [],
   "source": []
  },
  {
   "cell_type": "code",
   "execution_count": 96,
   "metadata": {},
   "outputs": [],
   "source": [
    "def create_time_entry(task_id: str, dt: datetime.datetime, duration: float) -> dict:\n",
    "    url = f'https://api.clickup.com/api/v2/team/{TEAM_ID}/time_entries'\n",
    "\n",
    "    dt = dt.replace(hour=9)\n",
    "    payload = {\n",
    "        'description': 'time entry',\n",
    "        'tags': [],\n",
    "        'start': int(dt.timestamp() * 1000),\n",
    "        'billable': False,\n",
    "        'duration': int(duration * 60 * 60 * 1000),\n",
    "        'assignee': int(MEMBER_ID),\n",
    "        'tid': task_id\n",
    "    }\n",
    "\n",
    "    headers = {\n",
    "        'Content-Type': 'application/json',\n",
    "        'Authorization': API_KEY\n",
    "    }\n",
    "\n",
    "    response = requests.post(url, json=payload, headers=headers)\n",
    "    data = response.json()\n",
    "    return data"
   ]
  },
  {
   "cell_type": "code",
   "execution_count": 97,
   "metadata": {},
   "outputs": [
    {
     "name": "stderr",
     "output_type": "stream",
     "text": [
      "  0%|          | 0/14 [00:00<?, ?it/s]"
     ]
    },
    {
     "name": "stdout",
     "output_type": "stream",
     "text": [
      "Creating time entry for 2egpdre on 2023-03-20 00:00:00 for 7.5 hours\n"
     ]
    },
    {
     "name": "stderr",
     "output_type": "stream",
     "text": [
      "  7%|▋         | 1/14 [00:00<00:10,  1.23it/s]"
     ]
    },
    {
     "name": "stdout",
     "output_type": "stream",
     "text": [
      "Creating time entry for 2egpdre on 2023-03-21 00:00:00 for 7.5 hours\n"
     ]
    },
    {
     "name": "stderr",
     "output_type": "stream",
     "text": [
      " 14%|█▍        | 2/14 [00:01<00:09,  1.28it/s]"
     ]
    },
    {
     "name": "stdout",
     "output_type": "stream",
     "text": [
      "Creating time entry for 2egpdre on 2023-03-22 00:00:00 for 4.0 hours\n"
     ]
    },
    {
     "name": "stderr",
     "output_type": "stream",
     "text": [
      " 21%|██▏       | 3/14 [00:02<00:09,  1.21it/s]"
     ]
    },
    {
     "name": "stdout",
     "output_type": "stream",
     "text": [
      "Creating time entry for 2egpbkx on 2023-03-22 00:00:00 for 3.5 hours\n"
     ]
    },
    {
     "name": "stderr",
     "output_type": "stream",
     "text": [
      " 29%|██▊       | 4/14 [00:03<00:08,  1.17it/s]"
     ]
    },
    {
     "name": "stdout",
     "output_type": "stream",
     "text": [
      "Creating time entry for 2qvp4qe on 2023-03-23 00:00:00 for 7.5 hours\n"
     ]
    },
    {
     "name": "stderr",
     "output_type": "stream",
     "text": [
      " 36%|███▌      | 5/14 [00:04<00:07,  1.13it/s]"
     ]
    },
    {
     "name": "stdout",
     "output_type": "stream",
     "text": [
      "Creating time entry for 2egpbkx on 2023-03-24 00:00:00 for 3.5 hours\n"
     ]
    },
    {
     "name": "stderr",
     "output_type": "stream",
     "text": [
      " 43%|████▎     | 6/14 [00:05<00:07,  1.12it/s]"
     ]
    },
    {
     "name": "stdout",
     "output_type": "stream",
     "text": [
      "Creating time entry for 2qvp4qe on 2023-03-24 00:00:00 for 4.0 hours\n"
     ]
    },
    {
     "name": "stderr",
     "output_type": "stream",
     "text": [
      " 50%|█████     | 7/14 [00:05<00:05,  1.18it/s]"
     ]
    },
    {
     "name": "stdout",
     "output_type": "stream",
     "text": [
      "Creating time entry for 2egpdre on 2023-03-25 00:00:00 for 7.5 hours\n"
     ]
    },
    {
     "name": "stderr",
     "output_type": "stream",
     "text": [
      " 57%|█████▋    | 8/14 [00:06<00:04,  1.23it/s]"
     ]
    },
    {
     "name": "stdout",
     "output_type": "stream",
     "text": [
      "Creating time entry for 2egpbkx on 2023-03-28 00:00:00 for 7.5 hours\n"
     ]
    },
    {
     "name": "stderr",
     "output_type": "stream",
     "text": [
      " 64%|██████▍   | 9/14 [00:07<00:03,  1.25it/s]"
     ]
    },
    {
     "name": "stdout",
     "output_type": "stream",
     "text": [
      "Creating time entry for 2egpbkx on 2023-03-29 00:00:00 for 7.5 hours\n"
     ]
    },
    {
     "name": "stderr",
     "output_type": "stream",
     "text": [
      " 71%|███████▏  | 10/14 [00:08<00:03,  1.28it/s]"
     ]
    },
    {
     "name": "stdout",
     "output_type": "stream",
     "text": [
      "Creating time entry for 2egpbkx on 2023-03-30 00:00:00 for 3.5 hours\n"
     ]
    },
    {
     "name": "stderr",
     "output_type": "stream",
     "text": [
      " 79%|███████▊  | 11/14 [00:08<00:02,  1.29it/s]"
     ]
    },
    {
     "name": "stdout",
     "output_type": "stream",
     "text": [
      "Creating time entry for 2qvp4qe on 2023-03-30 00:00:00 for 4.0 hours\n"
     ]
    },
    {
     "name": "stderr",
     "output_type": "stream",
     "text": [
      " 86%|████████▌ | 12/14 [00:10<00:01,  1.05it/s]"
     ]
    },
    {
     "name": "stdout",
     "output_type": "stream",
     "text": [
      "Creating time entry for 2egpbkx on 2023-03-31 00:00:00 for 3.5 hours\n"
     ]
    },
    {
     "name": "stderr",
     "output_type": "stream",
     "text": [
      " 93%|█████████▎| 13/14 [00:11<00:01,  1.06s/it]"
     ]
    },
    {
     "name": "stdout",
     "output_type": "stream",
     "text": [
      "Creating time entry for 2qvp4qe on 2023-03-31 00:00:00 for 4.0 hours\n"
     ]
    },
    {
     "name": "stderr",
     "output_type": "stream",
     "text": [
      "100%|██████████| 14/14 [00:12<00:00,  1.11it/s]\n"
     ]
    }
   ],
   "source": [
    "for _, time_entry in tqdm.tqdm(time_spent_df.iterrows(), total=len(time_spent_df)):\n",
    "    print(f'Creating time entry for {time_entry[\"task_id\"]} on {time_entry[\"date\"]} for {time_entry[\"time_spent\"]} hours')\n",
    "    create_time_entry(time_entry['task_id'], time_entry['date'].to_pydatetime(), time_entry['time_spent'])"
   ]
  },
  {
   "cell_type": "code",
   "execution_count": 89,
   "metadata": {},
   "outputs": [
    {
     "data": {
      "text/plain": [
       "datetime.datetime(2023, 4, 3, 0, 0)"
      ]
     },
     "execution_count": 89,
     "metadata": {},
     "output_type": "execute_result"
    }
   ],
   "source": [
    "time_spent_df['date'].iloc[0].to_pydatetime()"
   ]
  },
  {
   "cell_type": "code",
   "execution_count": null,
   "metadata": {},
   "outputs": [],
   "source": [
    "\n",
    "\n",
    "\n",
    "url = \"https://api.clickup.com/api/v2/team/\" + TEAM_ID + \"/time_entries\"\n",
    "\n",
    "query = {\n",
    "  # \"custom_task_ids\": \"true\",\n",
    "  # \"team_id\": \"123\"\n",
    "}\n",
    "\n",
    "payload = {\n",
    "  \"description\": \"time entry\",\n",
    "  \"tags\": [\n",
    "    # {\n",
    "    #   \"name\": \"name of tag\",\n",
    "    #   \"tag_bg\": \"#BF55EC\",\n",
    "    #   \"tag_fg\": \"#FFFFFF\"\n",
    "    # }\n",
    "  ],\n",
    "  \"start\": start,\n",
    "  \"billable\": False,\n",
    "  \"duration\": int(duration),\n",
    "  \"assignee\": int(MEMBER_ID),\n",
    "  \"tid\": task_id\n",
    "}\n",
    "\n",
    "headers = {\n",
    "  \"Content-Type\": \"application/json\",\n",
    "  \"Authorization\": API_KEY\n",
    "}\n",
    "\n",
    "response = requests.post(url, json=payload, headers=headers, params=query)\n",
    "\n",
    "data = response.json()\n",
    "print(data)"
   ]
  }
 ],
 "metadata": {
  "kernelspec": {
   "display_name": "env",
   "language": "python",
   "name": "python3"
  },
  "language_info": {
   "codemirror_mode": {
    "name": "ipython",
    "version": 3
   },
   "file_extension": ".py",
   "mimetype": "text/x-python",
   "name": "python",
   "nbconvert_exporter": "python",
   "pygments_lexer": "ipython3",
   "version": "3.9.5"
  },
  "orig_nbformat": 4
 },
 "nbformat": 4,
 "nbformat_minor": 2
}
